{
  "nbformat": 4,
  "nbformat_minor": 0,
  "metadata": {
    "colab": {
      "name": "전환률 구하기.ipynb",
      "provenance": [],
      "collapsed_sections": [],
      "toc_visible": true,
      "mount_file_id": "1edJnUcFgfjMC32lNWb0frJUmxkDLQWT-",
      "authorship_tag": "ABX9TyPBS1rAXnO0EDg9QiOJ6NLU",
      "include_colab_link": true
    },
    "kernelspec": {
      "name": "python3",
      "display_name": "Python 3"
    },
    "language_info": {
      "name": "python"
    }
  },
  "cells": [
    {
      "cell_type": "markdown",
      "metadata": {
        "id": "view-in-github",
        "colab_type": "text"
      },
      "source": [
        "<a href=\"https://colab.research.google.com/github/koreahong/caculate_conversion_rate/blob/main/%EC%A0%84%ED%99%98%EB%A5%A0_%EA%B5%AC%ED%95%98%EA%B8%B0.ipynb\" target=\"_parent\"><img src=\"https://colab.research.google.com/assets/colab-badge.svg\" alt=\"Open In Colab\"/></a>"
      ]
    },
    {
      "cell_type": "code",
      "metadata": {
        "colab": {
          "base_uri": "https://localhost:8080/"
        },
        "id": "tjzZvDxrz522",
        "outputId": "e243fd0d-ce48-476e-ca3a-e91b4daa689b"
      },
      "source": [
        "from google.colab import drive\n",
        "drive.mount('/gdrive')"
      ],
      "execution_count": 3,
      "outputs": [
        {
          "output_type": "stream",
          "text": [
            "Mounted at /gdrive\n"
          ],
          "name": "stdout"
        }
      ]
    },
    {
      "cell_type": "code",
      "metadata": {
        "id": "itDrcqTJtg00"
      },
      "source": [
        "import pandas as pd"
      ],
      "execution_count": 2,
      "outputs": []
    },
    {
      "cell_type": "markdown",
      "metadata": {
        "id": "9NZCFaLADM6s"
      },
      "source": [
        "#데이터전처리"
      ]
    },
    {
      "cell_type": "markdown",
      "metadata": {
        "id": "jE4HwAnO16yk"
      },
      "source": [
        "## 파일업로드하기\n",
        "  - 실제 테스트환경에서는 str 타입으로 주어서 업로드 과정없이 split을 하여 사용했어야 함"
      ]
    },
    {
      "cell_type": "code",
      "metadata": {
        "id": "2Nj2pjhs0lKX"
      },
      "source": [
        "txt_file = open(\"/gdrive/MyDrive/머신러닝_실전예제/토스코딩테스트/toss_log_codingtest.txt\", 'r')\n",
        "data = txt_file.read()\n",
        "txt_file.close()"
      ],
      "execution_count": 12,
      "outputs": []
    },
    {
      "cell_type": "markdown",
      "metadata": {
        "id": "LSPmk-cv2YSb"
      },
      "source": [
        "## txt파일을 DataFrame으로 변환하기"
      ]
    },
    {
      "cell_type": "code",
      "metadata": {
        "id": "3L0vStBy2Xv3"
      },
      "source": [
        "log = data.split()\n",
        "df = [user_log.split(',') for user_log in log[1:]]\n",
        "df = pd.DataFrame(df)"
      ],
      "execution_count": 91,
      "outputs": []
    },
    {
      "cell_type": "code",
      "metadata": {
        "id": "Na5Kgp443In_"
      },
      "source": [
        "#컬럼명이 모두 기억이 안나서 필요했던 부분만 추출해서 컬럼명을 변경함\n",
        "#유저아이디, 이벤트명, 운영체제명 추출\n",
        "df = df[[1, 3, 7]]\n",
        "df.columns = ['유저아이디', '이벤트명', '운영체제명']"
      ],
      "execution_count": 15,
      "outputs": []
    },
    {
      "cell_type": "code",
      "metadata": {
        "colab": {
          "base_uri": "https://localhost:8080/",
          "height": 202
        },
        "id": "MSpmeafs29kn",
        "outputId": "d7963e1f-d897-4e8d-a9ed-63b19ac68aea"
      },
      "source": [
        "df.head()"
      ],
      "execution_count": 16,
      "outputs": [
        {
          "output_type": "execute_result",
          "data": {
            "text/html": [
              "<div>\n",
              "<style scoped>\n",
              "    .dataframe tbody tr th:only-of-type {\n",
              "        vertical-align: middle;\n",
              "    }\n",
              "\n",
              "    .dataframe tbody tr th {\n",
              "        vertical-align: top;\n",
              "    }\n",
              "\n",
              "    .dataframe thead th {\n",
              "        text-align: right;\n",
              "    }\n",
              "</style>\n",
              "<table border=\"1\" class=\"dataframe\">\n",
              "  <thead>\n",
              "    <tr style=\"text-align: right;\">\n",
              "      <th></th>\n",
              "      <th>유저아이디</th>\n",
              "      <th>이벤트명</th>\n",
              "      <th>운영체제명</th>\n",
              "    </tr>\n",
              "  </thead>\n",
              "  <tbody>\n",
              "    <tr>\n",
              "      <th>0</th>\n",
              "      <td>8cff9a98-f743-4533-9d06-84cfcd0c6ac5</td>\n",
              "      <td>quiz_main</td>\n",
              "      <td>android</td>\n",
              "    </tr>\n",
              "    <tr>\n",
              "      <th>1</th>\n",
              "      <td>3ac1db4a-03ae-40d5-be75-238cb522c1e2</td>\n",
              "      <td>timeline_detail</td>\n",
              "      <td>android</td>\n",
              "    </tr>\n",
              "    <tr>\n",
              "      <th>2</th>\n",
              "      <td>2394a002-3d15-4dee-97a7-bf05934608d4</td>\n",
              "      <td>dashboard</td>\n",
              "      <td>android</td>\n",
              "    </tr>\n",
              "    <tr>\n",
              "      <th>3</th>\n",
              "      <td>19e5f3ec-0932-460f-bf68-33117de21055</td>\n",
              "      <td>timeline_main</td>\n",
              "      <td>android</td>\n",
              "    </tr>\n",
              "    <tr>\n",
              "      <th>4</th>\n",
              "      <td>9f7be1d1-9689-48fb-aa79-16762cbcc2fe</td>\n",
              "      <td>event_my_profile</td>\n",
              "      <td>android</td>\n",
              "    </tr>\n",
              "  </tbody>\n",
              "</table>\n",
              "</div>"
            ],
            "text/plain": [
              "                                  유저아이디              이벤트명    운영체제명\n",
              "0  8cff9a98-f743-4533-9d06-84cfcd0c6ac5         quiz_main  android\n",
              "1  3ac1db4a-03ae-40d5-be75-238cb522c1e2   timeline_detail  android\n",
              "2  2394a002-3d15-4dee-97a7-bf05934608d4         dashboard  android\n",
              "3  19e5f3ec-0932-460f-bf68-33117de21055     timeline_main  android\n",
              "4  9f7be1d1-9689-48fb-aa79-16762cbcc2fe  event_my_profile  android"
            ]
          },
          "metadata": {
            "tags": []
          },
          "execution_count": 16
        }
      ]
    },
    {
      "cell_type": "code",
      "metadata": {
        "colab": {
          "base_uri": "https://localhost:8080/"
        },
        "id": "8c-U0q4E4Aft",
        "outputId": "45801285-955a-42d0-adc4-19c86880ddb3"
      },
      "source": [
        "print(len(df))"
      ],
      "execution_count": 17,
      "outputs": [
        {
          "output_type": "stream",
          "text": [
            "56747\n"
          ],
          "name": "stdout"
        }
      ]
    },
    {
      "cell_type": "markdown",
      "metadata": {
        "id": "SRSmSrC53E00"
      },
      "source": [
        "#  "
      ]
    },
    {
      "cell_type": "markdown",
      "metadata": {
        "id": "EqfQk1wz3q5A"
      },
      "source": [
        "## 유저아이디, 이벤트명별로 중복제거"
      ]
    },
    {
      "cell_type": "code",
      "metadata": {
        "id": "SqF40scK24U0"
      },
      "source": [
        "df_non_duplicate = df.drop_duplicates(['유저아이디', '이벤트명'])"
      ],
      "execution_count": 20,
      "outputs": []
    },
    {
      "cell_type": "code",
      "metadata": {
        "colab": {
          "base_uri": "https://localhost:8080/"
        },
        "id": "yoNiHns12vdr",
        "outputId": "dbf172b1-ee3f-46d7-d552-0ca8a14764f8"
      },
      "source": [
        "#중복없이 정제해서 줬다는 것을 알 수 있음\n",
        "len(df_non_duplicate)"
      ],
      "execution_count": 22,
      "outputs": [
        {
          "output_type": "execute_result",
          "data": {
            "text/plain": [
              "56747"
            ]
          },
          "metadata": {
            "tags": []
          },
          "execution_count": 22
        }
      ]
    },
    {
      "cell_type": "markdown",
      "metadata": {
        "id": "16x6lSLq4cRz"
      },
      "source": [
        "## 운영체제명별로 나눠 저장하기"
      ]
    },
    {
      "cell_type": "code",
      "metadata": {
        "id": "HtO-I5LEmeq0"
      },
      "source": [
        "ios_data = df[df['운영체제명'] == 'ios']\n",
        "android_data = df[df['운영체제명'] == 'android']"
      ],
      "execution_count": 23,
      "outputs": []
    },
    {
      "cell_type": "markdown",
      "metadata": {
        "id": "f6uu7uPsDVMk"
      },
      "source": [
        "# 분석"
      ]
    },
    {
      "cell_type": "markdown",
      "metadata": {
        "id": "NS-pT4UO4y61"
      },
      "source": [
        "## 이벤트명별 카운트세기"
      ]
    },
    {
      "cell_type": "code",
      "metadata": {
        "id": "T3o2tEoE444u"
      },
      "source": [
        "#문제에서 주어진 과정 8개가 생각이 안나서 임의로 8개를 골라서 진행\n",
        "event_type = ['home', 'payment', 'transfer', 'bank_register', 'account_register', 'account_agreement', 'payment_register', 'transfer_complete']\n",
        "extract_col_ios = ios_data['이벤트명'].value_counts().to_frame().reset_index()\n",
        "\n",
        "ios_result = extract_col_ios[extract_col_ios.apply(lambda x: x['index'] in event_type, axis=1)]\n",
        "ios_result.columns = ['이벤트명', '유저수']\n",
        "\n",
        "extract_col_android = android_data['이벤트명'].value_counts().to_frame().reset_index()\n",
        "android_result = extract_col_android[extract_col_android.apply(lambda x: x['index'] in event_type, axis=1)]\n",
        "android_result.columns = ['이벤트명', '유저수']"
      ],
      "execution_count": 37,
      "outputs": []
    },
    {
      "cell_type": "code",
      "metadata": {
        "colab": {
          "base_uri": "https://localhost:8080/",
          "height": 294
        },
        "id": "NchkgnoA9FYS",
        "outputId": "fd1ad067-c7c6-4a58-d24c-3059cd205da2"
      },
      "source": [
        "#추출된테이블 확인\n",
        "android_result"
      ],
      "execution_count": 39,
      "outputs": [
        {
          "output_type": "execute_result",
          "data": {
            "text/html": [
              "<div>\n",
              "<style scoped>\n",
              "    .dataframe tbody tr th:only-of-type {\n",
              "        vertical-align: middle;\n",
              "    }\n",
              "\n",
              "    .dataframe tbody tr th {\n",
              "        vertical-align: top;\n",
              "    }\n",
              "\n",
              "    .dataframe thead th {\n",
              "        text-align: right;\n",
              "    }\n",
              "</style>\n",
              "<table border=\"1\" class=\"dataframe\">\n",
              "  <thead>\n",
              "    <tr style=\"text-align: right;\">\n",
              "      <th></th>\n",
              "      <th>이벤트명</th>\n",
              "      <th>유저수</th>\n",
              "    </tr>\n",
              "  </thead>\n",
              "  <tbody>\n",
              "    <tr>\n",
              "      <th>9</th>\n",
              "      <td>home</td>\n",
              "      <td>500</td>\n",
              "    </tr>\n",
              "    <tr>\n",
              "      <th>13</th>\n",
              "      <td>account_agreement</td>\n",
              "      <td>493</td>\n",
              "    </tr>\n",
              "    <tr>\n",
              "      <th>16</th>\n",
              "      <td>bank_register</td>\n",
              "      <td>486</td>\n",
              "    </tr>\n",
              "    <tr>\n",
              "      <th>30</th>\n",
              "      <td>account_register</td>\n",
              "      <td>469</td>\n",
              "    </tr>\n",
              "    <tr>\n",
              "      <th>38</th>\n",
              "      <td>transfer</td>\n",
              "      <td>460</td>\n",
              "    </tr>\n",
              "    <tr>\n",
              "      <th>42</th>\n",
              "      <td>payment</td>\n",
              "      <td>450</td>\n",
              "    </tr>\n",
              "    <tr>\n",
              "      <th>50</th>\n",
              "      <td>payment_register</td>\n",
              "      <td>438</td>\n",
              "    </tr>\n",
              "    <tr>\n",
              "      <th>58</th>\n",
              "      <td>transfer_complete</td>\n",
              "      <td>60</td>\n",
              "    </tr>\n",
              "  </tbody>\n",
              "</table>\n",
              "</div>"
            ],
            "text/plain": [
              "                 이벤트명  유저수\n",
              "9                home  500\n",
              "13  account_agreement  493\n",
              "16      bank_register  486\n",
              "30   account_register  469\n",
              "38           transfer  460\n",
              "42            payment  450\n",
              "50   payment_register  438\n",
              "58  transfer_complete   60"
            ]
          },
          "metadata": {
            "tags": []
          },
          "execution_count": 39
        }
      ]
    },
    {
      "cell_type": "markdown",
      "metadata": {
        "id": "f3Say57H8fQ0"
      },
      "source": [
        "## 전환율 구하기"
      ]
    },
    {
      "cell_type": "code",
      "metadata": {
        "id": "C3azSkX06PLD"
      },
      "source": [
        "ios_result['다음_이벤트_유저수'] = ios_result['유저수'].tolist()[1:] + [0]\n",
        "android_result['다음_이벤트_유저수'] = android_result['유저수'].tolist()[1:] + [0]"
      ],
      "execution_count": null,
      "outputs": []
    },
    {
      "cell_type": "code",
      "metadata": {
        "id": "zqE7EIRb6UNt"
      },
      "source": [
        "ios_result['전환율'] = round(ios_result['다음_이벤트_유저수'] / ios_result['유저수'] * 100).astype('int')\n",
        "android_result['전환율'] = round(android_result['다음_이벤트_유저수'] / android_result['유저수'] * 100).astype('int')"
      ],
      "execution_count": null,
      "outputs": []
    },
    {
      "cell_type": "code",
      "metadata": {
        "id": "okgYqnp4-ObC"
      },
      "source": [
        "results = []\n",
        "results.append(['ios',*sorted([(event1, event2, str(percent) + '%') for event1, event2, percent in zip(ios_result['이벤트명'][:-1], ios_result['이벤트명'][1:], ios_result['전환율'][:-1])], key = lambda x:x[2])[0]])\n",
        "results.append(['android',*sorted([(event1, event2, str(percent) + '%') for event1, event2, percent in zip(android_result['이벤트명'][:-1], android_result['이벤트명'][1:], android_result['전환율'][:-1])], key = lambda x:x[2])[0]])"
      ],
      "execution_count": 89,
      "outputs": []
    },
    {
      "cell_type": "code",
      "metadata": {
        "colab": {
          "base_uri": "https://localhost:8080/"
        },
        "id": "qTVU0o41BjHS",
        "outputId": "1c91b257-ce47-4004-d0fe-07642e12370c"
      },
      "source": [
        "for result in results:\n",
        "  print(*result)"
      ],
      "execution_count": 90,
      "outputs": [
        {
          "output_type": "stream",
          "text": [
            "ios payment_register transfer_complete 15%\n",
            "android payment_register transfer_complete 14%\n"
          ],
          "name": "stdout"
        }
      ]
    }
  ]
}